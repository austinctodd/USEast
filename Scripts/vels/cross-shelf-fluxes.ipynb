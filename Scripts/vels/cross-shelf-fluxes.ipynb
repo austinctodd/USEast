{
 "cells": [
  {
   "cell_type": "code",
   "execution_count": 19,
   "metadata": {
    "collapsed": true
   },
   "outputs": [],
   "source": [
    "#===============================================================================\n",
    "#\n",
    "# SCRIPT :  cross-shelf-fluxes.py\n",
    "#\n",
    "# PURPOSE : Ingest velocity data from US East model and calculate the cross-shelf\n",
    "#           fluxes from different shelf domain regions (GOM,SAB,MAB,GOME). \n",
    "#\n",
    "# METHOD :\n",
    "#\n",
    "# HISTORY : Created by Austin Todd on 11 July 2015 for personal use.\n",
    "#\n",
    "#===============================================================================\n",
    "\n",
    "ATL_file = '/Volumes/Black_box/Data/USeast/Data/grd/grid_ATLscope.nc'\n",
    "GOM_file = '/Volumes/Black_box/Data/USeast/Data/grd/grid_GOM_shelf_scope.nc'\n",
    "fwd_file = '/Volumes/Black_box/Data/USeast-age/output/clim/averages/'+\\\n",
    "            'avg_3hrly.nc'\n",
    "shelf_pts= '/Users/todd/Documents/Work/Projects/USeast-age/shelf_points.txt'\n",
    "output_dir='/Users/todd/Documents/Work/Projects/USeast-age/'\n"
   ]
  },
  {
   "cell_type": "code",
   "execution_count": 2,
   "metadata": {
    "collapsed": false
   },
   "outputs": [
    {
     "name": "stdout",
     "output_type": "stream",
     "text": [
      "Populating the interactive namespace from numpy and matplotlib\n"
     ]
    }
   ],
   "source": [
    "%pylab inline"
   ]
  },
  {
   "cell_type": "code",
   "execution_count": 3,
   "metadata": {
    "collapsed": true
   },
   "outputs": [],
   "source": [
    "#-------------------------------------------------------------------------------\n",
    "# Define all required libraries, routines, and modules\n",
    "#-------------------------------------------------------------------------------\n",
    "import numpy as np\n",
    "import netCDF4\n",
    "import matplotlib.pyplot as plt\n",
    "import sys\n",
    "import mpl_toolkits.basemap\n",
    "import os\n",
    "import PIL\n",
    "\n",
    "#-------------------------------------------------------------------------------\n",
    "# Define all required sub-libraries, sub-routines, and sub-modules\n",
    "#-------------------------------------------------------------------------------\n",
    "from netCDF4 import Dataset\n",
    "from mpl_toolkits.basemap import Basemap\n",
    "from matplotlib import cm\n"
   ]
  },
  {
   "cell_type": "code",
   "execution_count": 56,
   "metadata": {
    "collapsed": false
   },
   "outputs": [
    {
     "name": "stdout",
     "output_type": "stream",
     "text": [
      "Ingesting data from file /Volumes/Black_box/Data/USeast/Data/grd/grid_ATLscope.nc ...\n",
      "Ingesting data from file /Volumes/Black_box/Data/USeast/Data/grd/grid_GOM_shelf_scope.nc ...\n"
     ]
    }
   ],
   "source": [
    "#-------------------------------------------------------------------------------\n",
    "# Open grid file and read in variables\n",
    "#-------------------------------------------------------------------------------\n",
    "print 'Ingesting data from file %s ...' % (ATL_file)\n",
    "grid_data=Dataset(ATL_file,mode='r')\n",
    "hmask  = grid_data.variables['mask_rho' ][:,:]\n",
    "Ascope = grid_data.variables['scope_rho'][:,:]\n",
    "h      = grid_data.variables['h'        ][:,:]\n",
    "lon    = grid_data.variables['lon_rho'  ][:,:]\n",
    "lat    = grid_data.variables['lat_rho'  ][:,:]\n",
    "grid_data.close()\n",
    "\n",
    "print 'Ingesting data from file %s ...' % (GOM_file)\n",
    "grid_data=Dataset(GOM_file,mode='r')\n",
    "Gscope = grid_data.variables['scope_rho'][:,:]\n",
    "grid_data.close()\n",
    "\n",
    "# Add scopes together to obtain shelf scope mask\n",
    "Sscope=Ascope+Gscope\n",
    "\n",
    "# Shift lat/lons by 1/2 distance for plotting purposes\n",
    "lon2=lon-0.5*(lon[1,2]-lon[1,1])\n",
    "lat2=lat-0.5*(lat[2,1]-lat[1,1])\n",
    "\n",
    "#-------------------------------------------------------------------------------\n",
    "# Open forward file and read in static variables\n",
    "#-------------------------------------------------------------------------------\n",
    "fwd_data=Dataset(fwd_file,'r')\n",
    "\n",
    "s_r =fwd_data.variables['s_rho'][:]\n",
    "s_w =fwd_data.variables['s_w'  ][:]\n",
    "Cs_r=fwd_data.variables['Cs_r' ][:]\n",
    "Cs_w=fwd_data.variables['Cs_w' ][:]\n",
    "\n",
    "L=len(fwd_data.dimensions['xi_rho' ])\n",
    "M=len(fwd_data.dimensions['eta_rho'])\n",
    "N=len(fwd_data.dimensions['s_rho'  ])\n",
    "\n",
    "hc=200."
   ]
  },
  {
   "cell_type": "code",
   "execution_count": 40,
   "metadata": {
    "collapsed": false
   },
   "outputs": [],
   "source": [
    "# Read in Shelf edge index points from file (skip first line)\n",
    "shelf_i,shelf_j=np.loadtxt(shelf_pts,unpack=True,skiprows=1)\n",
    "shelf_i=shelf_i.astype(int64)\n",
    "shelf_j=shelf_j.astype(int64)"
   ]
  },
  {
   "cell_type": "code",
   "execution_count": 61,
   "metadata": {
    "collapsed": false
   },
   "outputs": [
    {
     "ename": "KeyboardInterrupt",
     "evalue": "",
     "output_type": "error",
     "traceback": [
      "\u001b[0;31m---------------------------------------------------------------------------\u001b[0m",
      "\u001b[0;31mKeyboardInterrupt\u001b[0m                         Traceback (most recent call last)",
      "\u001b[0;32m<ipython-input-61-aa66840ccd91>\u001b[0m in \u001b[0;36m<module>\u001b[0;34m()\u001b[0m\n\u001b[1;32m     10\u001b[0m     \u001b[0;31m# Read in velocity and sea level data\u001b[0m\u001b[0;34m\u001b[0m\u001b[0;34m\u001b[0m\u001b[0m\n\u001b[1;32m     11\u001b[0m     \u001b[0;31m#------------------------------------------------------------------------\u001b[0m\u001b[0;34m\u001b[0m\u001b[0;34m\u001b[0m\u001b[0m\n\u001b[0;32m---> 12\u001b[0;31m     \u001b[0mzeta\u001b[0m\u001b[0;34m=\u001b[0m\u001b[0mfwd_data\u001b[0m\u001b[0;34m.\u001b[0m\u001b[0mvariables\u001b[0m\u001b[0;34m[\u001b[0m\u001b[0;34m'zeta'\u001b[0m\u001b[0;34m]\u001b[0m\u001b[0;34m[\u001b[0m\u001b[0;34m:\u001b[0m\u001b[0;34m,\u001b[0m\u001b[0mshelf_j\u001b[0m\u001b[0;34m[\u001b[0m\u001b[0mi\u001b[0m\u001b[0;34m]\u001b[0m\u001b[0;34m,\u001b[0m\u001b[0mshelf_i\u001b[0m\u001b[0;34m[\u001b[0m\u001b[0mi\u001b[0m\u001b[0;34m]\u001b[0m\u001b[0;34m]\u001b[0m\u001b[0;34m\u001b[0m\u001b[0m\n\u001b[0m\u001b[1;32m     13\u001b[0m     \u001b[0mu\u001b[0m   \u001b[0;34m=\u001b[0m\u001b[0mnp\u001b[0m\u001b[0;34m.\u001b[0m\u001b[0mnanmean\u001b[0m\u001b[0;34m(\u001b[0m\u001b[0mfwd_data\u001b[0m\u001b[0;34m.\u001b[0m\u001b[0mvariables\u001b[0m\u001b[0;34m[\u001b[0m\u001b[0;34m'u'\u001b[0m\u001b[0;34m]\u001b[0m\u001b[0;34m[\u001b[0m\u001b[0;34m:\u001b[0m\u001b[0;34m,\u001b[0m\u001b[0;34m:\u001b[0m\u001b[0;34m,\u001b[0m\u001b[0mshelf_j\u001b[0m\u001b[0;34m[\u001b[0m\u001b[0mi\u001b[0m\u001b[0;34m]\u001b[0m\u001b[0;34m:\u001b[0m\u001b[0mshelf_j\u001b[0m\u001b[0;34m[\u001b[0m\u001b[0mi\u001b[0m\u001b[0;34m]\u001b[0m\u001b[0;34m+\u001b[0m\u001b[0;36m2\u001b[0m\u001b[0;34m,\u001b[0m\u001b[0mshelf_i\u001b[0m\u001b[0;34m[\u001b[0m\u001b[0mi\u001b[0m\u001b[0;34m]\u001b[0m\u001b[0;34m]\u001b[0m\u001b[0;34m,\u001b[0m\u001b[0maxis\u001b[0m\u001b[0;34m=\u001b[0m\u001b[0;36m2\u001b[0m\u001b[0;34m)\u001b[0m\u001b[0;34m\u001b[0m\u001b[0m\n\u001b[1;32m     14\u001b[0m     \u001b[0mv\u001b[0m   \u001b[0;34m=\u001b[0m\u001b[0mnp\u001b[0m\u001b[0;34m.\u001b[0m\u001b[0mnanmean\u001b[0m\u001b[0;34m(\u001b[0m\u001b[0mfwd_data\u001b[0m\u001b[0;34m.\u001b[0m\u001b[0mvariables\u001b[0m\u001b[0;34m[\u001b[0m\u001b[0;34m'v'\u001b[0m\u001b[0;34m]\u001b[0m\u001b[0;34m[\u001b[0m\u001b[0;34m:\u001b[0m\u001b[0;34m,\u001b[0m\u001b[0;34m:\u001b[0m\u001b[0;34m,\u001b[0m\u001b[0mshelf_j\u001b[0m\u001b[0;34m[\u001b[0m\u001b[0mi\u001b[0m\u001b[0;34m]\u001b[0m\u001b[0;34m,\u001b[0m\u001b[0mshelf_i\u001b[0m\u001b[0;34m[\u001b[0m\u001b[0;36m0\u001b[0m\u001b[0;34m]\u001b[0m\u001b[0;34m:\u001b[0m\u001b[0mshelf_i\u001b[0m\u001b[0;34m[\u001b[0m\u001b[0;36m0\u001b[0m\u001b[0;34m]\u001b[0m\u001b[0;34m+\u001b[0m\u001b[0;36m2\u001b[0m\u001b[0;34m]\u001b[0m\u001b[0;34m,\u001b[0m\u001b[0maxis\u001b[0m\u001b[0;34m=\u001b[0m\u001b[0;36m2\u001b[0m\u001b[0;34m)\u001b[0m\u001b[0;34m\u001b[0m\u001b[0m\n",
      "\u001b[0;32mnetCDF4/_netCDF4.pyx\u001b[0m in \u001b[0;36mnetCDF4._netCDF4.Variable.__getitem__ (netCDF4/_netCDF4.c:31611)\u001b[0;34m()\u001b[0m\n",
      "\u001b[0;32mnetCDF4/_netCDF4.pyx\u001b[0m in \u001b[0;36mnetCDF4._netCDF4.Variable._get (netCDF4/_netCDF4.c:40736)\u001b[0;34m()\u001b[0m\n",
      "\u001b[0;32mnetCDF4/_netCDF4.pyx\u001b[0m in \u001b[0;36mnetCDF4._netCDF4.Variable.dimensions.__get__ (netCDF4/_netCDF4.c:27336)\u001b[0;34m()\u001b[0m\n",
      "\u001b[0;32mnetCDF4/_netCDF4.pyx\u001b[0m in \u001b[0;36mnetCDF4._netCDF4.Variable._getdims (netCDF4/_netCDF4.c:26361)\u001b[0;34m()\u001b[0m\n",
      "\u001b[0;32m/Users/todd/anaconda/lib/python2.7/encodings/utf_8.pyc\u001b[0m in \u001b[0;36mdecode\u001b[0;34m(input, errors)\u001b[0m\n\u001b[1;32m     13\u001b[0m \u001b[0mencode\u001b[0m \u001b[0;34m=\u001b[0m \u001b[0mcodecs\u001b[0m\u001b[0;34m.\u001b[0m\u001b[0mutf_8_encode\u001b[0m\u001b[0;34m\u001b[0m\u001b[0m\n\u001b[1;32m     14\u001b[0m \u001b[0;34m\u001b[0m\u001b[0m\n\u001b[0;32m---> 15\u001b[0;31m \u001b[0;32mdef\u001b[0m \u001b[0mdecode\u001b[0m\u001b[0;34m(\u001b[0m\u001b[0minput\u001b[0m\u001b[0;34m,\u001b[0m \u001b[0merrors\u001b[0m\u001b[0;34m=\u001b[0m\u001b[0;34m'strict'\u001b[0m\u001b[0;34m)\u001b[0m\u001b[0;34m:\u001b[0m\u001b[0;34m\u001b[0m\u001b[0m\n\u001b[0m\u001b[1;32m     16\u001b[0m     \u001b[0;32mreturn\u001b[0m \u001b[0mcodecs\u001b[0m\u001b[0;34m.\u001b[0m\u001b[0mutf_8_decode\u001b[0m\u001b[0;34m(\u001b[0m\u001b[0minput\u001b[0m\u001b[0;34m,\u001b[0m \u001b[0merrors\u001b[0m\u001b[0;34m,\u001b[0m \u001b[0mTrue\u001b[0m\u001b[0;34m)\u001b[0m\u001b[0;34m\u001b[0m\u001b[0m\n\u001b[1;32m     17\u001b[0m \u001b[0;34m\u001b[0m\u001b[0m\n",
      "\u001b[0;31mKeyboardInterrupt\u001b[0m: "
     ]
    }
   ],
   "source": [
    "uflx=np.empty((2923,N,len(shelf_i),))\n",
    "vflx=np.empty((2923,N,len(shelf_i),))\n",
    "uflx[:]=np.nan\n",
    "vflx[:]=np.nan\n",
    "\n",
    "# Loop through each point and extract model velocities for the whole time series\n",
    "for i in range (0,len(shelf_i)):\n",
    "    \n",
    "    #------------------------------------------------------------------------\n",
    "    # Read in velocity and sea level data\n",
    "    #------------------------------------------------------------------------\n",
    "    zeta=fwd_data.variables['zeta'][:,shelf_j[i],shelf_i[i]]\n",
    "    u   =np.nanmean(fwd_data.variables['u'][:,:,shelf_j[i]:shelf_j[i]+2,shelf_i[i]],axis=2)\n",
    "    v   =np.nanmean(fwd_data.variables['v'][:,:,shelf_j[i],shelf_i[0]:shelf_i[0]+2],axis=2)\n",
    "    \n",
    "    #------------------------------------------------------------------------\n",
    "    # Calculate depths of each rho layer\n",
    "    #------------------------------------------------------------------------\n",
    "    z =np.zeros(shape=(2923,N  ,))\n",
    "    zw=np.zeros(shape=(2923,N+1,))\n",
    "    for k in range(0,len(s_r)):\n",
    "        z0  =(hc*s_r[k]+Cs_r[k]*h[shelf_j[i],shelf_i[i]])/(hc+h[shelf_j[i],shelf_i[i]]);\n",
    "        z[:,k]=zeta+(zeta+h[shelf_j[i],shelf_i[i]])*z0;\n",
    "    \n",
    "        z0   =(hc*s_w[k]+Cs_w[k]*h[shelf_j[i],shelf_i[i]])/(hc+h[shelf_j[i],shelf_i[i]]);\n",
    "        zw[:,k]=zeta+(zeta+h[shelf_j[i],shelf_i[i]])*z0;\n",
    "\n",
    "    # Add last depth for zw\n",
    "    z0   =(hc*s_w[N]+Cs_w[N]*h[shelf_j[i],shelf_i[i]])/(hc+h[shelf_j[i],shelf_i[i]]);\n",
    "    zw[:,N]=zeta+(zeta+h[shelf_j[i],shelf_i[i]])*z0;\n",
    "    Hz = abs(zw[:,1:N+1]-zw[:,0:N])\n",
    "    \n",
    "    #------------------------------------------------------------------------\n",
    "    # Multiply velocities by layer depths\n",
    "    #------------------------------------------------------------------------\n",
    "    uflx[:,:,i]=u*Hz\n",
    "    vflx[:,:,i]=v*Hz\n",
    "\n",
    "    "
   ]
  },
  {
   "cell_type": "markdown",
   "metadata": {},
   "source": []
  },
  {
   "cell_type": "code",
   "execution_count": 43,
   "metadata": {
    "collapsed": false
   },
   "outputs": [],
   "source": [
    "u=np.nanmean(fwd_data.variables['u'][:,:,shelf_j[0]:shelf_j[0]+2,shelf_i[0]],axis=2)"
   ]
  },
  {
   "cell_type": "code",
   "execution_count": 58,
   "metadata": {
    "collapsed": false
   },
   "outputs": [
    {
     "data": {
      "text/plain": [
       "(2923, 36, 482, 401)"
      ]
     },
     "execution_count": 58,
     "metadata": {},
     "output_type": "execute_result"
    }
   ],
   "source": [
    "fwd_data.variables['u'].shape"
   ]
  },
  {
   "cell_type": "code",
   "execution_count": null,
   "metadata": {
    "collapsed": false
   },
   "outputs": [],
   "source": []
  },
  {
   "cell_type": "code",
   "execution_count": null,
   "metadata": {
    "collapsed": true
   },
   "outputs": [],
   "source": []
  },
  {
   "cell_type": "code",
   "execution_count": null,
   "metadata": {
    "collapsed": true
   },
   "outputs": [],
   "source": []
  }
 ],
 "metadata": {
  "kernelspec": {
   "display_name": "Python 2",
   "language": "python",
   "name": "python2"
  },
  "language_info": {
   "codemirror_mode": {
    "name": "ipython",
    "version": 2
   },
   "file_extension": ".py",
   "mimetype": "text/x-python",
   "name": "python",
   "nbconvert_exporter": "python",
   "pygments_lexer": "ipython2",
   "version": "2.7.10"
  }
 },
 "nbformat": 4,
 "nbformat_minor": 0
}
