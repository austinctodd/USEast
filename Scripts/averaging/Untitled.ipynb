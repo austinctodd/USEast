{
 "cells": [
  {
   "cell_type": "code",
   "execution_count": 1,
   "metadata": {
    "collapsed": true
   },
   "outputs": [],
   "source": [
    "#-------------------------------------------------------------------------------\n",
    "# Define all required libraries, routines, and modules\n",
    "#-------------------------------------------------------------------------------\n",
    "import numpy as np\n",
    "import netCDF4\n",
    "import matplotlib.pyplot as plt\n",
    "import sys\n",
    "import mpl_toolkits.basemap\n",
    "import os\n",
    "#import pyroms\n",
    "sys.path.append('/Users/actodd/MYPYTHON/seawater/')\n",
    "import seawater as sw\n",
    "\n",
    "#-------------------------------------------------------------------------------\n",
    "# Define all required sub-libraries, sub-routines, and sub-modules\n",
    "#-------------------------------------------------------------------------------\n",
    "from netCDF4 import Dataset\n",
    "from mpl_toolkits.basemap import Basemap\n",
    "from matplotlib import cm\n",
    "#from pyroms.depths import nc_depths\n"
   ]
  },
  {
   "cell_type": "code",
   "execution_count": 4,
   "metadata": {
    "collapsed": true
   },
   "outputs": [],
   "source": [
    "#--------------------------------------------------------------------------\n",
    "# Routine for calculating depths at rho points\n",
    "#--------------------------------------------------------------------------\n",
    "def depths_rho(h,zeta,s_r,Cs_r,hc):\n",
    "  for k in range(0,len(s_r)):\n",
    "    z0=(hc*s_r[k]+Cs_r[k]*h)/(hc+h);\n",
    "    z[k,:,:]=zeta+(zeta+h)*z0;\n",
    "  return z"
   ]
  },
  {
   "cell_type": "code",
   "execution_count": 3,
   "metadata": {
    "collapsed": true
   },
   "outputs": [],
   "source": [
    "#--------------------------------------------------------------------------\n",
    "# Routine for calculating depths at u points\n",
    "#--------------------------------------------------------------------------\n",
    "def depths_u(h,zeta,s_r,Cs_r,hc):\n",
    "  M=len(h)\n",
    "  L=len(h[0])\n",
    "  hu=   0.5*(   h[0:M-1,1:L-1]+   h[0:M-1,0:L-2]);\n",
    "  zetau=0.5*(zeta[0:M-1,1:L-1]+zeta[0:M-1,0:L-2])\n",
    "  \n",
    "  # Loop through each depth layer\n",
    "  for k in range(0,len(s_r)):\n",
    "    z0=(hc*s_r[k]+Cs_r[k]*hu)/(hc+hu);\n",
    "    z[k,:,:]=zetau+(zetau+hu)*z0;\n",
    "  #  endfor\n",
    "  \n",
    "  del hu\n",
    "  del zetau\n",
    "  return z"
   ]
  },
  {
   "cell_type": "code",
   "execution_count": 5,
   "metadata": {
    "collapsed": true
   },
   "outputs": [],
   "source": [
    "#--------------------------------------------------------------------------\n",
    "# Routine for calculating depths at v points\n",
    "#--------------------------------------------------------------------------\n",
    "def depths_v(h,zeta,s_r,Cs_r,hc):\n",
    "  M=len(h)\n",
    "  L=len(h[0])\n",
    "  hv=   0.5*(   h[1:M-1,0:L-1]+   h[0:M-2,0:L-1]);\n",
    "  zetav=0.5*(zeta[1:M-1,0:L-1]+zeta[0:M-2,0:L-1])\n",
    "  \n",
    "  # Loop through all layers\n",
    "  for k in range(0,len(s_r)):\n",
    "    z0=(hc*s_r[k]+Cs_r[k]*hv)/(hc+hv);\n",
    "    z[k,:,:]=zetav+(zetav+hv)*z0;\n",
    "  #  endfor\n",
    "  del hv\n",
    "  del zetav\n",
    "  return z"
   ]
  },
  {
   "cell_type": "code",
   "execution_count": 6,
   "metadata": {
    "collapsed": true
   },
   "outputs": [],
   "source": [
    "#--------------------------------------------------------------------------\n",
    "# Routine for calculating depths at w points\n",
    "#--------------------------------------------------------------------------\n",
    "def depths_w(h,zeta,s_w,Cs_w,hc):\n",
    "  for k in range(0,len(s_w)):\n",
    "    z0=(hc*s_w[k]+Cs_w[k]*h)/(hc+h);\n",
    "    zw[k,:,:]=zeta+(zeta+h)*z0;\n",
    "  return zw"
   ]
  },
  {
   "cell_type": "code",
   "execution_count": 23,
   "metadata": {
    "collapsed": true
   },
   "outputs": [],
   "source": [
    "################################################################################\n",
    "#                                                                              #\n",
    "#                            User Defined Variables                            #\n",
    "#                                                                              #\n",
    "input_file  = '/Volumes/Black_box/Data/USeast-age/output/clim/averages/'+\\\n",
    "              'avg_3hrly.nc'\n",
    "MLD_file    = '/Volumes/Black_box/Data/USeast-age/output/clim/averages/'+\\\n",
    "              'age_pycnocline_avg.nc'\n",
    "Grtime_file = '/Volumes/Black_box/Data/USeast-rtime/output/GOM_shelf/'+\\\n",
    "              'rtime_GOM_shelf.nc'\n",
    "Artime_file = '/Volumes/Black_box/Data/USeast-rtime/output/ATL/'+\\\n",
    "              'rtime_ATL.nc'\n",
    "ATL_file    = '/Volumes/Black_box/Data/USeast/Data/grd/grid_ATLscope.nc'\n",
    "GOM_file    = '/Volumes/Black_box/Data/USeast/Data/grd/grid_GOM_shelf_scope.nc'\n",
    "grid_file   = '/Volumes/Black_box/Data/USeast/Data/grd/USeast-grid.nc'\n",
    "output_file = '/Volumes/Black_box/Data/USeast-age/output/clim/averages/'+\\\n",
    "              'transit_pycnocline.nc'\n",
    "#                                                                              #\n",
    "################################################################################"
   ]
  },
  {
   "cell_type": "code",
   "execution_count": 15,
   "metadata": {
    "collapsed": true
   },
   "outputs": [],
   "source": [
    "#-------------------------------------------------------------------------------\n",
    "# Open grid file and read in variables\n",
    "#-------------------------------------------------------------------------------\n",
    "grid_data=Dataset(grid_file,mode='r')\n",
    "mask=grid_data.variables['mask_rho' ][:,:]\n",
    "lon =grid_data.variables['lon_rho'  ][:,:]\n",
    "lat =grid_data.variables['lat_rho'  ][:,:]\n",
    "h   =grid_data.variables['h'        ][:,:]\n",
    "grid_data.close()\n",
    "\n",
    "hc=200.\n",
    "\n",
    "grid_data=Dataset(ATL_file,mode='r')\n",
    "hmask  = grid_data.variables['mask_rho' ][:]\n",
    "Ascope = grid_data.variables['scope_rho'][:]\n",
    "grid_data.close()\n",
    "\n",
    "# Get GOM Shelf gird\n",
    "grid_data=Dataset(GOM_file,mode='r')\n",
    "Gscope = grid_data.variables['scope_rho'][:]\n",
    "grid_data.close()\n",
    "\n",
    "scope=Ascope+Gscope\n"
   ]
  },
  {
   "cell_type": "code",
   "execution_count": 9,
   "metadata": {
    "collapsed": true
   },
   "outputs": [],
   "source": [
    "#-------------------------------------------------------------------------------\n",
    "# Read in additional grid variables from forward file\n",
    "#-------------------------------------------------------------------------------\n",
    "input_data=Dataset(input_file,mode='r')\n",
    "s_r =input_data.variables['s_rho'][:]\n",
    "s_w =input_data.variables['s_w'  ][:]\n",
    "Cs_r=input_data.variables['Cs_r' ][:]\n",
    "Cs_w=input_data.variables['Cs_w' ][:]\n",
    "\n",
    "L=len(input_data.dimensions['xi_rho' ])\n",
    "M=len(input_data.dimensions['eta_rho'])\n",
    "N=len(input_data.dimensions['s_rho'  ])"
   ]
  },
  {
   "cell_type": "code",
   "execution_count": 14,
   "metadata": {
    "collapsed": false
   },
   "outputs": [],
   "source": [
    "time_out = input_data.variables['ocean_time'][:]"
   ]
  },
  {
   "cell_type": "code",
   "execution_count": 21,
   "metadata": {
    "collapsed": false
   },
   "outputs": [
    {
     "data": {
      "text/plain": [
       "1.0"
      ]
     },
     "execution_count": 21,
     "metadata": {},
     "output_type": "execute_result"
    }
   ],
   "source": [
    "scope[440,380]"
   ]
  },
  {
   "cell_type": "code",
   "execution_count": 22,
   "metadata": {
    "collapsed": true
   },
   "outputs": [],
   "source": [
    "#-------------------------------------------------------------------------------\n",
    "# Open residence time files\n",
    "#-------------------------------------------------------------------------------\n",
    "Atime_data =Dataset(Artime_file,mode='r')\n",
    "Gtime_data =Dataset(Grtime_file,mode='r')\n"
   ]
  },
  {
   "cell_type": "code",
   "execution_count": 24,
   "metadata": {
    "collapsed": true
   },
   "outputs": [],
   "source": [
    "#-------------------------------------------------------------------------------\n",
    "# Open residence time files\n",
    "#-------------------------------------------------------------------------------\n",
    "MLD_data =Dataset(MLD_file,mode='r')\n"
   ]
  },
  {
   "cell_type": "code",
   "execution_count": 29,
   "metadata": {
    "collapsed": false
   },
   "outputs": [],
   "source": [
    "#------------------------------------------------------------------------\n",
    "# Load in the SSH, Temp, and Salt to calculate layer & thermocline depths\n",
    "#------------------------------------------------------------------------\n",
    "zeta=input_data.variables['zeta'][0,  :,:]\n",
    "temp=input_data.variables['temp'][0,:,:,:]\n",
    "salt=input_data.variables['salt'][0,:,:,:]\n",
    "MLD =  MLD_data.variables['MLD' ][0,  :,:]\n",
    "\n",
    "#------------------------------------------------------------------------\n",
    "# Calculate depths of each rho layer\n",
    "#------------------------------------------------------------------------\n",
    "z  = np.zeros(shape=(N  ,M,L))\n",
    "zw = np.zeros(shape=(N+1,M,L))\n",
    "z  = depths_rho(h,zeta,s_r,Cs_r,hc)\n",
    "zw = depths_w(  h,zeta,s_w,Cs_w,hc)\n",
    "Hz = abs(zw[1:N+1,:,:]-zw[0:N,:,:])\n"
   ]
  },
  {
   "cell_type": "code",
   "execution_count": 30,
   "metadata": {
    "collapsed": true
   },
   "outputs": [],
   "source": [
    "#------------------------------------------------------------------------\n",
    "# Calculate various seawater properties\n",
    "#------------------------------------------------------------------------\n",
    "pres=sw.pres(z*-1,lat)\n",
    "dens=sw.dens(salt,temp,pres)-1000.\n"
   ]
  },
  {
   "cell_type": "code",
   "execution_count": 31,
   "metadata": {
    "collapsed": true
   },
   "outputs": [],
   "source": [
    "drdZ = abs(dens[1:N-1,440,380]-dens[0:N-2,440,380])/abs(z[1:N-1,440,380]-z[0:N-2,440,380])\n",
    "drdZ_ind=np.argmax(drdZ)\n"
   ]
  },
  {
   "cell_type": "code",
   "execution_count": 32,
   "metadata": {
    "collapsed": false
   },
   "outputs": [
    {
     "data": {
      "text/plain": [
       "70.93837"
      ]
     },
     "execution_count": 32,
     "metadata": {},
     "output_type": "execute_result"
    }
   ],
   "source": [
    "MLD[440,380]"
   ]
  },
  {
   "cell_type": "code",
   "execution_count": 33,
   "metadata": {
    "collapsed": false
   },
   "outputs": [
    {
     "data": {
      "text/plain": [
       "70.938367959104426"
      ]
     },
     "execution_count": 33,
     "metadata": {},
     "output_type": "execute_result"
    }
   ],
   "source": [
    "abs(   z[drdZ_ind,   440,380])"
   ]
  },
  {
   "cell_type": "code",
   "execution_count": 34,
   "metadata": {
    "collapsed": false
   },
   "outputs": [
    {
     "data": {
      "text/plain": [
       "array([-144.35308881, -139.36846471, -133.76543513, -127.79235994,\n",
       "       -121.63304831, -115.42189366, -109.25561807, -103.20236199,\n",
       "        -97.30869907,  -91.60503234,  -86.10973059,  -80.83228604,\n",
       "        -75.77571419,  -70.93836796,  -66.31530092,  -61.89928447,\n",
       "        -57.68156043,  -53.65239226,  -49.80146386,  -46.11816351,\n",
       "        -42.59178208,  -39.2116475 ,  -35.96721263,  -32.84810912,\n",
       "        -29.84417714,  -26.94547823,  -24.14229661,  -21.42513309,\n",
       "        -18.78469441,  -16.21188024,  -13.69776935,  -11.23360599,\n",
       "         -8.81078731,   -6.42085232,   -4.05547265,   -1.70644545])"
      ]
     },
     "execution_count": 34,
     "metadata": {},
     "output_type": "execute_result"
    }
   ],
   "source": [
    "z[:,440,380]"
   ]
  },
  {
   "cell_type": "code",
   "execution_count": 38,
   "metadata": {
    "collapsed": false
   },
   "outputs": [
    {
     "data": {
      "text/plain": [
       "1.7918721368914703e-06"
      ]
     },
     "execution_count": 38,
     "metadata": {},
     "output_type": "execute_result"
    }
   ],
   "source": [
    "min(abs(abs(z[:,440,380])-MLD[440,380]))"
   ]
  },
  {
   "cell_type": "code",
   "execution_count": 42,
   "metadata": {
    "collapsed": false
   },
   "outputs": [
    {
     "data": {
      "text/plain": [
       "13"
      ]
     },
     "execution_count": 42,
     "metadata": {},
     "output_type": "execute_result"
    }
   ],
   "source": [
    "np.argmin(abs(abs(z[:,440,380])-MLD[440,380]))"
   ]
  },
  {
   "cell_type": "code",
   "execution_count": 40,
   "metadata": {
    "collapsed": false
   },
   "outputs": [
    {
     "data": {
      "text/plain": [
       "1.7918721368914703e-06"
      ]
     },
     "execution_count": 40,
     "metadata": {},
     "output_type": "execute_result"
    }
   ],
   "source": [
    "zz[13]"
   ]
  },
  {
   "cell_type": "code",
   "execution_count": 41,
   "metadata": {
    "collapsed": false
   },
   "outputs": [
    {
     "data": {
      "text/plain": [
       "-70.938367959104426"
      ]
     },
     "execution_count": 41,
     "metadata": {},
     "output_type": "execute_result"
    }
   ],
   "source": [
    "z[13,440,380]"
   ]
  },
  {
   "cell_type": "code",
   "execution_count": null,
   "metadata": {
    "collapsed": true
   },
   "outputs": [],
   "source": []
  }
 ],
 "metadata": {
  "kernelspec": {
   "display_name": "Python 2",
   "language": "python",
   "name": "python2"
  },
  "language_info": {
   "codemirror_mode": {
    "name": "ipython",
    "version": 2
   },
   "file_extension": ".py",
   "mimetype": "text/x-python",
   "name": "python",
   "nbconvert_exporter": "python",
   "pygments_lexer": "ipython2",
   "version": "2.7.10"
  }
 },
 "nbformat": 4,
 "nbformat_minor": 0
}
