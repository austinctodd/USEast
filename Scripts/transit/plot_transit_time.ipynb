{
 "cells": [
  {
   "cell_type": "code",
   "execution_count": null,
   "metadata": {
    "collapsed": true
   },
   "outputs": [],
   "source": [
    "#===============================================================================\n",
    "#\n",
    "# SCRIPT :  plot_transit_times.py\n",
    "#\n",
    "# PURPOSE : Ingest input data from US East water age model and plot the variables\n",
    "#           on a map.  Try masking out non-shelf values\n",
    "#\n",
    "# HISTORY : Created by Austin Todd on 16 JANUARY 2015.\n",
    "#\n",
    "#==============================================================================="
   ]
  },
  {
   "cell_type": "code",
   "execution_count": 1,
   "metadata": {
    "collapsed": true
   },
   "outputs": [],
   "source": [
    "#-------------------------------------------------------------------------------\n",
    "# Define all required libraries, routines, and modules\n",
    "#-------------------------------------------------------------------------------\n",
    "import numpy as np\n",
    "import netCDF4\n",
    "import matplotlib.pyplot as plt\n",
    "import sys\n",
    "import mpl_toolkits.basemap\n",
    "import os\n",
    "\n",
    "#-------------------------------------------------------------------------------\n",
    "# Define all required sub-libraries, sub-routines, and sub-modules\n",
    "#-------------------------------------------------------------------------------\n",
    "from netCDF4 import Dataset\n",
    "from mpl_toolkits.basemap import Basemap\n",
    "from matplotlib import cm"
   ]
  },
  {
   "cell_type": "code",
   "execution_count": 24,
   "metadata": {
    "collapsed": false
   },
   "outputs": [
    {
     "name": "stdout",
     "output_type": "stream",
     "text": [
      "Populating the interactive namespace from numpy and matplotlib\n"
     ]
    }
   ],
   "source": [
    "%pylab inline"
   ]
  },
  {
   "cell_type": "code",
   "execution_count": 60,
   "metadata": {
    "collapsed": true
   },
   "outputs": [],
   "source": [
    "#-------------------------------------------------------------------------------\n",
    "# Set filenames\n",
    "#-------------------------------------------------------------------------------\n",
    "input_file = '/Volumes/Black_box/Data/USeast-age/output/clim/averages/'+\\\n",
    "             'avg_transit_times.nc'\n",
    "ATL_file   = '/Volumes/Black_box/Data/USeast/Data/grd/grid_ATLscope.nc'\n",
    "GOM_file   = '/Volumes/Black_box/Data/USeast/Data/grd/grid_GOM_shelf_scope.nc'\n",
    "plot_dir   = '/Volumes/Black_box/Data/PLOTS/USeast-age/transit/Mississippi/'"
   ]
  },
  {
   "cell_type": "code",
   "execution_count": 3,
   "metadata": {
    "collapsed": false
   },
   "outputs": [
    {
     "name": "stdout",
     "output_type": "stream",
     "text": [
      "Ingesting data from file /Volumes/Black_box/Data/USeast/Data/grd/grid_ATLscope.nc ...\n"
     ]
    }
   ],
   "source": [
    "#-------------------------------------------------------------------------------\n",
    "# Open grid file and read in variables\n",
    "#-------------------------------------------------------------------------------\n",
    "print 'Ingesting data from file %s ...' % (ATL_file)\n",
    "grid_data=Dataset(ATL_file,mode='r')\n",
    "hmask  = grid_data.variables['mask_rho' ][:]\n",
    "Ascope = grid_data.variables['scope_rho'][:]\n",
    "mask   = grid_data.variables['mask_rho' ][:,:]\n",
    "lon    = grid_data.variables['lon_rho'  ][:,:]\n",
    "lat    = grid_data.variables['lat_rho'  ][:,:]\n",
    "h      = grid_data.variables['h'        ][:,:]\n",
    "pm     = grid_data.variables['pm'       ][:]\n",
    "pn     = grid_data.variables['pn'       ][:]\n",
    "grid_data.close()"
   ]
  },
  {
   "cell_type": "code",
   "execution_count": 4,
   "metadata": {
    "collapsed": true
   },
   "outputs": [],
   "source": [
    "# Get GOM Shelf gird\n",
    "grid_data=Dataset(GOM_file,mode='r')\n",
    "Gscope = grid_data.variables['scope_rho'][:]\n",
    "grid_data.close()\n",
    "\n",
    "# Set total shelf mask as both Atlantic and Gulf shelves\n",
    "scope=Ascope+Gscope\n",
    "scope=Gscope\n",
    "lon2=lon-0.5*(lon[1,2]-lon[1,1])\n",
    "lat2=lat-0.5*(lat[2,1]-lat[1,1])"
   ]
  },
  {
   "cell_type": "code",
   "execution_count": 5,
   "metadata": {
    "collapsed": true
   },
   "outputs": [],
   "source": [
    "#-------------------------------------------------------------------------------\n",
    "# Open transit time and fwd file\n",
    "#-------------------------------------------------------------------------------\n",
    "input_data=Dataset(input_file,mode='r')\n"
   ]
  },
  {
   "cell_type": "code",
   "execution_count": 6,
   "metadata": {
    "collapsed": true
   },
   "outputs": [],
   "source": [
    "#-------------------------------------------------------------------------------\n",
    "# Mask the age variables to the shelf\n",
    "#-------------------------------------------------------------------------------\n",
    "scope2=scope+hmask\n",
    "scope=1-scope\n",
    "hmask=1-hmask\n",
    "h=np.ma.array(h,mask=hmask)\n",
    "cm.gist_ncar.set_bad('white',alpha=0)"
   ]
  },
  {
   "cell_type": "code",
   "execution_count": 25,
   "metadata": {
    "collapsed": false
   },
   "outputs": [
    {
     "data": {
      "text/plain": [
       "<matplotlib.figure.Figure at 0x10ef2f690>"
      ]
     },
     "metadata": {},
     "output_type": "display_data"
    }
   ],
   "source": [
    "#-------------------------------------------------------------------------------\n",
    "# Set up some properties about the Figure\n",
    "#-------------------------------------------------------------------------------\n",
    "day_count=[0,31,28,31,30,31,30,31,31,30,31,30,31]\n",
    "fig=plt.figure(num=None, figsize=(8, 8), dpi=150, facecolor='w')\n",
    "cm.spectral_r.set_bad('grey',alpha=0)"
   ]
  },
  {
   "cell_type": "code",
   "execution_count": 9,
   "metadata": {
    "collapsed": true
   },
   "outputs": [],
   "source": [
    "#-------------------------------------------------------------------------------\n",
    "# Specify which month to plot\n",
    "#-------------------------------------------------------------------------------\n",
    "month=3"
   ]
  },
  {
   "cell_type": "code",
   "execution_count": 45,
   "metadata": {
    "collapsed": false
   },
   "outputs": [
    {
     "name": "stdout",
     "output_type": "stream",
     "text": [
      "Plotting data for Month  4\n"
     ]
    }
   ],
   "source": [
    "#-----------------------------------------------------------------------------\n",
    "# Load and average data for each season\n",
    "#-----------------------------------------------------------------------------\n",
    "print 'Plotting data for Month %2d' % (month+1)\n",
    "Ttime=np.zeros(shape=(482,402))\n",
    "age   =input_data.variables['mean_age_02'][month,1,:,:]\n",
    "Artime=input_data.variables['rtime_ATL'  ][month,1,:,:]\n",
    "Grtime=input_data.variables['rtime_GOM'  ][month,1,:,:]\n",
    "  \n",
    "Artime=Artime*Ascope\n",
    "Grtime=Grtime*Gscope\n",
    "  \n",
    "Ttime =age+Artime+Grtime\n",
    "#Ttime = Grtime\n"
   ]
  },
  {
   "cell_type": "code",
   "execution_count": 46,
   "metadata": {
    "collapsed": true
   },
   "outputs": [],
   "source": [
    "#-----------------------------------------------------------------------------\n",
    "# Mask the age variables to the shelf\n",
    "#-----------------------------------------------------------------------------\n",
    "Ttime=np.ma.array(Ttime,mask=scope)\n",
    "#rtime=np.ma.array(rtime,mask=np.isnan(rtime))\n",
    "  \n"
   ]
  },
  {
   "cell_type": "code",
   "execution_count": 48,
   "metadata": {
    "collapsed": false
   },
   "outputs": [
    {
     "name": "stdout",
     "output_type": "stream",
     "text": [
      "Plotting data.\n"
     ]
    },
    {
     "data": {
      "text/plain": [
       "<matplotlib.figure.Figure at 0x10f2d2a90>"
      ]
     },
     "metadata": {},
     "output_type": "display_data"
    }
   ],
   "source": [
    "#-----------------------------------------------------------------------------\n",
    "# Plot Data using Basemap mercator projection\n",
    "#-----------------------------------------------------------------------------\n",
    "print 'Plotting data.'\n",
    "plt.clf()\n",
    "m=Basemap(projection='merc',llcrnrlat=18,urcrnrlat=31,\\\n",
    "          llcrnrlon=-98.5,urcrnrlon=-80,lat_ts=20,resolution='f')\n"
   ]
  },
  {
   "cell_type": "code",
   "execution_count": 54,
   "metadata": {
    "collapsed": false
   },
   "outputs": [
    {
     "data": {
      "text/plain": [
       "<matplotlib.text.Text at 0x12e457190>"
      ]
     },
     "execution_count": 54,
     "metadata": {},
     "output_type": "execute_result"
    },
    {
     "data": {
      "image/png": "[encoded data removed]",
      "text/plain": [
       "<matplotlib.figure.Figure at 0x12df1bbd0>"
      ]
     },
     "metadata": {},
     "output_type": "display_data"
    }
   ],
   "source": [
    "# Add Grid Lines\n",
    "m.drawparallels(np.arange(0.,90.,10.), labels=[1,0,0,0],\\\n",
    "                fontsize=10, linewidth=0.75, color='.5')\n",
    "m.drawmeridians(np.arange(-105.,-35.,10.), labels=[0,0,0,1],\\\n",
    "                fontsize=10, linewidth=0.75, color='.5')\n",
    "\n",
    "# Draw a thick border around the whole map\n",
    "m.drawmapboundary(linewidth=3)\n",
    "\n",
    "# Plot Data\n",
    "xi, yi = m(lon2,lat2)\n",
    "cs = m.pcolormesh(xi,yi,Ttime,cmap=cm.spectral,vmin=0, vmax = 365.25*3)\n",
    "xi, yi = m(lon,lat)\n",
    "cM = m.contour(   xi,yi,scope2,[1,1],colors='k',linewidth=2.0)\n",
    "cn = m.contour(   xi,yi,Ttime,[182.625,365.25,730.5,913.125,1095.75],colors='0.5',linewidth=1.0)\n",
    "\n",
    "# Add Coastlines, States, and Country Boundaries\n",
    "m.drawcoastlines()\n",
    "m.drawstates()\n",
    "m.drawcountries()\n",
    "m.fillcontinents(color='grey')\n",
    "\n",
    "# Add Colorbar\n",
    "clabels=np.array([0,0.5,1,1.5,2,2.5,3,3.5,4,4.5,5])\n",
    "clabels=clabels*365.25\n",
    "cbar = m.colorbar(cs, location='bottom', pad=\"10%\",ticks=clabels)#,extend='max')\n",
    "cbar.ax.set_xticklabels([0,0.5,1,1.5,2,2.5,3,3.5,4,4.5,5])\n",
    "cbar.set_label('Transit Time (years)')\n",
    "\n",
    "# Add Title\n",
    "plt.title('Month '+str(month+1))\n"
   ]
  },
  {
   "cell_type": "code",
   "execution_count": null,
   "metadata": {
    "collapsed": false
   },
   "outputs": [],
   "source": [
    "# Close the input file\n",
    "input_data.close()"
   ]
  },
  {
   "cell_type": "code",
   "execution_count": null,
   "metadata": {
    "collapsed": false
   },
   "outputs": [],
   "source": []
  },
  {
   "cell_type": "code",
   "execution_count": null,
   "metadata": {
    "collapsed": true
   },
   "outputs": [],
   "source": []
  }
 ],
 "metadata": {
  "kernelspec": {
   "display_name": "Python 2",
   "language": "python",
   "name": "python2"
  },
  "language_info": {
   "codemirror_mode": {
    "name": "ipython",
    "version": 2
   },
   "file_extension": ".py",
   "mimetype": "text/x-python",
   "name": "python",
   "nbconvert_exporter": "python",
   "pygments_lexer": "ipython2",
   "version": "2.7.9"
  }
 },
 "nbformat": 4,
 "nbformat_minor": 0
}
